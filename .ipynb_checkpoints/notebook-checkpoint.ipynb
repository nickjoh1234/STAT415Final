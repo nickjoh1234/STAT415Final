{
 "cells": [
  {
   "cell_type": "markdown",
   "id": "8e2a23b5-efd3-4e37-a29e-13f0ab11103d",
   "metadata": {},
   "source": [
    "# STAT 421 Final Project"
   ]
  },
  {
   "cell_type": "code",
   "execution_count": 1,
   "id": "cc4c0a45-3a57-4e3d-b9de-6befaf9e0513",
   "metadata": {
    "executionCancelledAt": null,
    "executionTime": null,
    "lastExecutedAt": null,
    "lastExecutedByKernel": null,
    "lastScheduledRunId": null,
    "lastSuccessfullyExecutedCode": null,
    "outputsMetadata": {
     "0": {
      "height": 616,
      "type": "stream"
     },
     "1": {
      "height": 321,
      "type": "dataFrame"
     }
    }
   },
   "outputs": [
    {
     "name": "stdout",
     "output_type": "stream",
     "text": [
      "3.6.3\n",
      "Index(['ID', 'caco', 'agebas', 'PRS', 'famhist', 'menarche', 'parity', 'birth',\n",
      "       'agemeno', 'height', 'bmi', 'everhrt', 'currhrt', 'alcohol',\n",
      "       'smoke.st'],\n",
      "      dtype='object')\n"
     ]
    },
    {
     "data": {
      "text/html": [
       "<div>\n",
       "<style scoped>\n",
       "    .dataframe tbody tr th:only-of-type {\n",
       "        vertical-align: middle;\n",
       "    }\n",
       "\n",
       "    .dataframe tbody tr th {\n",
       "        vertical-align: top;\n",
       "    }\n",
       "\n",
       "    .dataframe thead th {\n",
       "        text-align: right;\n",
       "    }\n",
       "</style>\n",
       "<table border=\"1\" class=\"dataframe\">\n",
       "  <thead>\n",
       "    <tr style=\"text-align: right;\">\n",
       "      <th></th>\n",
       "      <th>ID</th>\n",
       "      <th>caco</th>\n",
       "      <th>agebas</th>\n",
       "      <th>PRS</th>\n",
       "      <th>famhist</th>\n",
       "      <th>menarche</th>\n",
       "      <th>parity</th>\n",
       "      <th>birth</th>\n",
       "      <th>agemeno</th>\n",
       "      <th>height</th>\n",
       "      <th>bmi</th>\n",
       "      <th>everhrt</th>\n",
       "      <th>currhrt</th>\n",
       "      <th>alcohol</th>\n",
       "      <th>smoke.st</th>\n",
       "    </tr>\n",
       "  </thead>\n",
       "  <tbody>\n",
       "    <tr>\n",
       "      <th>0</th>\n",
       "      <td>22851</td>\n",
       "      <td>1</td>\n",
       "      <td>66</td>\n",
       "      <td>-0.067874</td>\n",
       "      <td>0</td>\n",
       "      <td>12.5</td>\n",
       "      <td>3</td>\n",
       "      <td>22.0</td>\n",
       "      <td>52</td>\n",
       "      <td>1.6764</td>\n",
       "      <td>24.261256</td>\n",
       "      <td>1</td>\n",
       "      <td>0</td>\n",
       "      <td>0.014</td>\n",
       "      <td>1</td>\n",
       "    </tr>\n",
       "    <tr>\n",
       "      <th>1</th>\n",
       "      <td>22852</td>\n",
       "      <td>0</td>\n",
       "      <td>61</td>\n",
       "      <td>0.176942</td>\n",
       "      <td>0</td>\n",
       "      <td>14.5</td>\n",
       "      <td>4</td>\n",
       "      <td>22.0</td>\n",
       "      <td>52</td>\n",
       "      <td>1.7018</td>\n",
       "      <td>25.111940</td>\n",
       "      <td>0</td>\n",
       "      <td>0</td>\n",
       "      <td>33.163</td>\n",
       "      <td>3</td>\n",
       "    </tr>\n",
       "    <tr>\n",
       "      <th>2</th>\n",
       "      <td>22853</td>\n",
       "      <td>1</td>\n",
       "      <td>64</td>\n",
       "      <td>0.602125</td>\n",
       "      <td>0</td>\n",
       "      <td>12.5</td>\n",
       "      <td>3</td>\n",
       "      <td>22.0</td>\n",
       "      <td>52</td>\n",
       "      <td>1.5748</td>\n",
       "      <td>31.891559</td>\n",
       "      <td>1</td>\n",
       "      <td>0</td>\n",
       "      <td>0.853</td>\n",
       "      <td>3</td>\n",
       "    </tr>\n",
       "    <tr>\n",
       "      <th>3</th>\n",
       "      <td>22855</td>\n",
       "      <td>1</td>\n",
       "      <td>74</td>\n",
       "      <td>0.242642</td>\n",
       "      <td>1</td>\n",
       "      <td>12.5</td>\n",
       "      <td>2</td>\n",
       "      <td>27.0</td>\n",
       "      <td>56</td>\n",
       "      <td>1.6510</td>\n",
       "      <td>28.015118</td>\n",
       "      <td>0</td>\n",
       "      <td>0</td>\n",
       "      <td>2.387</td>\n",
       "      <td>1</td>\n",
       "    </tr>\n",
       "    <tr>\n",
       "      <th>4</th>\n",
       "      <td>22857</td>\n",
       "      <td>0</td>\n",
       "      <td>67</td>\n",
       "      <td>0.243387</td>\n",
       "      <td>0</td>\n",
       "      <td>12.5</td>\n",
       "      <td>4</td>\n",
       "      <td>27.0</td>\n",
       "      <td>52</td>\n",
       "      <td>1.6510</td>\n",
       "      <td>24.012958</td>\n",
       "      <td>0</td>\n",
       "      <td>0</td>\n",
       "      <td>44.153</td>\n",
       "      <td>1</td>\n",
       "    </tr>\n",
       "    <tr>\n",
       "      <th>...</th>\n",
       "      <td>...</td>\n",
       "      <td>...</td>\n",
       "      <td>...</td>\n",
       "      <td>...</td>\n",
       "      <td>...</td>\n",
       "      <td>...</td>\n",
       "      <td>...</td>\n",
       "      <td>...</td>\n",
       "      <td>...</td>\n",
       "      <td>...</td>\n",
       "      <td>...</td>\n",
       "      <td>...</td>\n",
       "      <td>...</td>\n",
       "      <td>...</td>\n",
       "      <td>...</td>\n",
       "    </tr>\n",
       "    <tr>\n",
       "      <th>1230</th>\n",
       "      <td>24625</td>\n",
       "      <td>0</td>\n",
       "      <td>58</td>\n",
       "      <td>-0.178920</td>\n",
       "      <td>1</td>\n",
       "      <td>12.5</td>\n",
       "      <td>2</td>\n",
       "      <td>32.0</td>\n",
       "      <td>36</td>\n",
       "      <td>1.5494</td>\n",
       "      <td>25.561362</td>\n",
       "      <td>1</td>\n",
       "      <td>1</td>\n",
       "      <td>0.010</td>\n",
       "      <td>1</td>\n",
       "    </tr>\n",
       "    <tr>\n",
       "      <th>1231</th>\n",
       "      <td>24626</td>\n",
       "      <td>1</td>\n",
       "      <td>72</td>\n",
       "      <td>0.003504</td>\n",
       "      <td>0</td>\n",
       "      <td>12.5</td>\n",
       "      <td>3</td>\n",
       "      <td>22.0</td>\n",
       "      <td>56</td>\n",
       "      <td>1.6002</td>\n",
       "      <td>34.614925</td>\n",
       "      <td>0</td>\n",
       "      <td>0</td>\n",
       "      <td>47.919</td>\n",
       "      <td>1</td>\n",
       "    </tr>\n",
       "    <tr>\n",
       "      <th>1232</th>\n",
       "      <td>24627</td>\n",
       "      <td>1</td>\n",
       "      <td>64</td>\n",
       "      <td>0.221074</td>\n",
       "      <td>0</td>\n",
       "      <td>9.0</td>\n",
       "      <td>2</td>\n",
       "      <td>22.0</td>\n",
       "      <td>56</td>\n",
       "      <td>1.6002</td>\n",
       "      <td>25.206766</td>\n",
       "      <td>0</td>\n",
       "      <td>0</td>\n",
       "      <td>0.213</td>\n",
       "      <td>3</td>\n",
       "    </tr>\n",
       "    <tr>\n",
       "      <th>1233</th>\n",
       "      <td>24628</td>\n",
       "      <td>0</td>\n",
       "      <td>60</td>\n",
       "      <td>0.257146</td>\n",
       "      <td>1</td>\n",
       "      <td>14.5</td>\n",
       "      <td>3</td>\n",
       "      <td>22.0</td>\n",
       "      <td>42</td>\n",
       "      <td>1.6002</td>\n",
       "      <td>23.076617</td>\n",
       "      <td>0</td>\n",
       "      <td>0</td>\n",
       "      <td>25.141</td>\n",
       "      <td>1</td>\n",
       "    </tr>\n",
       "    <tr>\n",
       "      <th>1234</th>\n",
       "      <td>24630</td>\n",
       "      <td>0</td>\n",
       "      <td>67</td>\n",
       "      <td>0.416455</td>\n",
       "      <td>0</td>\n",
       "      <td>14.5</td>\n",
       "      <td>4</td>\n",
       "      <td>22.0</td>\n",
       "      <td>36</td>\n",
       "      <td>1.6256</td>\n",
       "      <td>20.297004</td>\n",
       "      <td>1</td>\n",
       "      <td>1</td>\n",
       "      <td>16.672</td>\n",
       "      <td>1</td>\n",
       "    </tr>\n",
       "  </tbody>\n",
       "</table>\n",
       "<p>1235 rows × 15 columns</p>\n",
       "</div>"
      ],
      "text/plain": [
       "         ID  caco  agebas       PRS  famhist  menarche  parity  birth  \\\n",
       "0     22851     1      66 -0.067874        0      12.5       3   22.0   \n",
       "1     22852     0      61  0.176942        0      14.5       4   22.0   \n",
       "2     22853     1      64  0.602125        0      12.5       3   22.0   \n",
       "3     22855     1      74  0.242642        1      12.5       2   27.0   \n",
       "4     22857     0      67  0.243387        0      12.5       4   27.0   \n",
       "...     ...   ...     ...       ...      ...       ...     ...    ...   \n",
       "1230  24625     0      58 -0.178920        1      12.5       2   32.0   \n",
       "1231  24626     1      72  0.003504        0      12.5       3   22.0   \n",
       "1232  24627     1      64  0.221074        0       9.0       2   22.0   \n",
       "1233  24628     0      60  0.257146        1      14.5       3   22.0   \n",
       "1234  24630     0      67  0.416455        0      14.5       4   22.0   \n",
       "\n",
       "      agemeno  height        bmi  everhrt  currhrt  alcohol  smoke.st  \n",
       "0          52  1.6764  24.261256        1        0    0.014         1  \n",
       "1          52  1.7018  25.111940        0        0   33.163         3  \n",
       "2          52  1.5748  31.891559        1        0    0.853         3  \n",
       "3          56  1.6510  28.015118        0        0    2.387         1  \n",
       "4          52  1.6510  24.012958        0        0   44.153         1  \n",
       "...       ...     ...        ...      ...      ...      ...       ...  \n",
       "1230       36  1.5494  25.561362        1        1    0.010         1  \n",
       "1231       56  1.6002  34.614925        0        0   47.919         1  \n",
       "1232       56  1.6002  25.206766        0        0    0.213         3  \n",
       "1233       42  1.6002  23.076617        0        0   25.141         1  \n",
       "1234       36  1.6256  20.297004        1        1   16.672         1  \n",
       "\n",
       "[1235 rows x 15 columns]"
      ]
     },
     "execution_count": 1,
     "metadata": {},
     "output_type": "execute_result"
    }
   ],
   "source": [
    "import pandas as pd\n",
    "import numpy as np\n",
    "import matplotlib\n",
    "import matplotlib.pyplot as plt\n",
    "import seaborn as sns\n",
    "\n",
    "%matplotlib inline\n",
    "import torch\n",
    "import torch.nn as nn\n",
    "\n",
    "from torch.utils.data import Dataset, DataLoader\n",
    "\n",
    "from sklearn import metrics\n",
    "from sklearn.model_selection import train_test_split\n",
    "from sklearn.linear_model import LogisticRegression\n",
    "from sklearn.preprocessing import StandardScaler\n",
    "from sklearn.metrics import accuracy_score, classification_report, confusion_matrix\n",
    "from tqdm.notebook import tqdm\n",
    "from tqdm.notebook import trange\n",
    "\n",
    "import warnings\n",
    "warnings.filterwarnings('ignore')\n",
    "bc_df = pd.read_csv('PLCOrelev.csv')\n",
    "bc_df.head()\n",
    "\n",
    "print(bc_df.columns)\n",
    "bc_df"
   ]
  },
  {
   "cell_type": "markdown",
   "id": "c228490f-21a9-45fe-bd1e-1770d00fbab9",
   "metadata": {},
   "source": [
    "## Data Dictionary \n"
   ]
  },
  {
   "cell_type": "markdown",
   "id": "a252001f-1242-4a25-bb35-03da372f3024",
   "metadata": {},
   "source": [
    "![Screen Shot 2024-04-25 at 1.47.24 PM](Screen%20Shot%202024-04-25%20at%201.47.24%20PM.png)\n"
   ]
  },
  {
   "cell_type": "markdown",
   "id": "28c906dc-c4b6-48d2-9404-fc5663128ee4",
   "metadata": {},
   "source": [
    "![Screen Shot 2024-04-25 at 1.48.35 PM](Screen%20Shot%202024-04-25%20at%201.48.35%20PM.png)\n"
   ]
  },
  {
   "cell_type": "markdown",
   "id": "e72c61cb-f696-44df-9a19-bdad67e9cdeb",
   "metadata": {},
   "source": [
    "# Logistic regression model"
   ]
  },
  {
   "cell_type": "code",
   "execution_count": 2,
   "id": "fc65bf5d-2e69-4fed-aa52-89b610f76ff8",
   "metadata": {
    "executionCancelledAt": null,
    "executionTime": 165,
    "lastExecutedAt": 1714596648555,
    "lastExecutedByKernel": "cea3dc35-4472-4d82-b8d9-83edc869d988",
    "lastScheduledRunId": null,
    "lastSuccessfullyExecutedCode": "import pandas as pd\nfrom sklearn.model_selection import train_test_split\nfrom sklearn.linear_model import LogisticRegression\nfrom sklearn.preprocessing import StandardScaler\nfrom sklearn.metrics import accuracy_score, classification_report, confusion_matrix\n\n# defining features and target\nfeatures = ['agebas', 'bmi', 'agemeno', 'menarche', 'parity', 'famhist', 'PRS', 'alcohol', 'birth', 'height', 'smoke.st']\nX = bc_df[features]\ny = bc_df['caco'] #target variable, 1 = has breast cancer, 0 = doesn't have breast cancer\n\n# spliting data into training and testing sets\nX_train, X_test, y_train, y_test = train_test_split(X, y, test_size = 0.2, random_state = 24)\n\n#standardize features\nscaler = StandardScaler()\nX_train_scaled = scaler.fit_transform(X_train)\nX_test_scaled = scaler.transform(X_test)\n\n#train logistic regression model \nlr_model = LogisticRegression()\nlr_model.fit(X_train_scaled, y_train)\n\n#predict on testing set\ny_pred = lr_model.predict(X_test_scaled)\n\n#evaluate model \naccuracy = accuracy_score(y_test, y_pred)\nprint(\"Accuracy: \", accuracy)\n\n#classification report\nprint(\"\\nClassification Report: \")\nprint(classification_report(y_test, y_pred))\n\n#confusion matrix\nprint(\"\\nConfusion Matrix: \")\nprint(confusion_matrix(y_test, y_pred))\n\n",
    "outputsMetadata": {
     "0": {
      "height": 353,
      "type": "stream"
     }
    }
   },
   "outputs": [
    {
     "name": "stdout",
     "output_type": "stream",
     "text": [
      "Accuracy:  0.5748987854251012\n",
      "\n",
      "Classification Report: \n",
      "              precision    recall  f1-score   support\n",
      "\n",
      "           0       0.60      0.66      0.63       134\n",
      "           1       0.54      0.47      0.50       113\n",
      "\n",
      "    accuracy                           0.57       247\n",
      "   macro avg       0.57      0.57      0.57       247\n",
      "weighted avg       0.57      0.57      0.57       247\n",
      "\n",
      "\n",
      "Confusion Matrix: \n",
      "[[89 45]\n",
      " [60 53]]\n"
     ]
    }
   ],
   "source": [
    "\n",
    "\n",
    "# defining features and target\n",
    "features = ['agebas', 'bmi', 'agemeno', 'menarche', 'parity', 'famhist', 'PRS', 'alcohol', 'birth', 'height', 'smoke.st']\n",
    "X = bc_df[features]\n",
    "y = bc_df['caco'] #target variable, 1 = has breast cancer, 0 = doesn't have breast cancer\n",
    "\n",
    "# spliting data into training and testing sets\n",
    "X_train, X_test, y_train, y_test = train_test_split(X, y, test_size = 0.2, random_state = 24)\n",
    "\n",
    "#standardize features\n",
    "scaler = StandardScaler()\n",
    "X_train_scaled = scaler.fit_transform(X_train)\n",
    "X_test_scaled = scaler.transform(X_test)\n",
    "\n",
    "#train logistic regression model \n",
    "lr_model = LogisticRegression()\n",
    "lr_model.fit(X_train_scaled, y_train)\n",
    "\n",
    "#predict on testing set\n",
    "y_pred = lr_model.predict(X_test_scaled)\n",
    "\n",
    "#evaluate model \n",
    "accuracy = accuracy_score(y_test, y_pred)\n",
    "print(\"Accuracy: \", accuracy)\n",
    "\n",
    "#classification report\n",
    "print(\"\\nClassification Report: \")\n",
    "print(classification_report(y_test, y_pred))\n",
    "\n",
    "#confusion matrix\n",
    "print(\"\\nConfusion Matrix: \")\n",
    "print(confusion_matrix(y_test, y_pred))\n",
    "\n"
   ]
  },
  {
   "cell_type": "markdown",
   "id": "bdeadce0-6d0c-4ffb-860c-460f6ab0e8f6",
   "metadata": {},
   "source": [
    "### plots to visualize how model is performing"
   ]
  },
  {
   "cell_type": "code",
   "execution_count": 3,
   "id": "882d3d81-568f-459c-b75f-6077785b7001",
   "metadata": {
    "executionCancelledAt": null,
    "executionTime": 440,
    "lastExecutedAt": 1714596648995,
    "lastExecutedByKernel": "cea3dc35-4472-4d82-b8d9-83edc869d988",
    "lastScheduledRunId": null,
    "lastSuccessfullyExecutedCode": "from sklearn.metrics import roc_curve, roc_auc_score\nimport matplotlib.pyplot as plt\n\n#roc curve plot:\n    #receiver operating characteristic\n    #plot of the true positive rate (sensitivity) vs false positive rate (1 - specficity)\n\n# finding ROC curve\nfpr, tpr, thresholds = roc_curve(y_test, lr_model.predict_proba(X_test_scaled)[:,1])\n\n# plotting ROC curve\nplt.figure(figsize=(8, 6))\nplt.plot(fpr, tpr, color='blue', lw=2, label='ROC curve')\nplt.plot([0, 1], [0, 1], color='red', lw=2, linestyle='--', label='Random Guessing')\nplt.xlabel('False Positive Rate')\nplt.ylabel('True Positive Rate')\nplt.title('ROC Curve')\nplt.legend(loc='lower right')\nplt.show()\n"
   },
   "outputs": [
    {
     "data": {
      "image/png": "[encoded data removed]",
      "text/plain": [
       "<Figure size 800x600 with 1 Axes>"
      ]
     },
     "metadata": {},
     "output_type": "display_data"
    }
   ],
   "source": [
    "from sklearn.metrics import roc_curve, roc_auc_score\n",
    "import matplotlib.pyplot as plt\n",
    "\n",
    "#roc curve plot:\n",
    "    #receiver operating characteristic\n",
    "    #plot of the true positive rate (sensitivity) vs false positive rate (1 - specficity)\n",
    "\n",
    "# finding ROC curve\n",
    "fpr, tpr, thresholds = roc_curve(y_test, lr_model.predict_proba(X_test_scaled)[:,1])\n",
    "\n",
    "# plotting ROC curve\n",
    "plt.figure(figsize=(8, 6))\n",
    "plt.plot(fpr, tpr, color='blue', lw=2, label='ROC curve')\n",
    "plt.plot([0, 1], [0, 1], color='red', lw=2, linestyle='--', label='Random Guessing')\n",
    "plt.xlabel('False Positive Rate')\n",
    "plt.ylabel('True Positive Rate')\n",
    "plt.title('ROC Curve')\n",
    "plt.legend(loc='lower right')\n",
    "plt.show()\n"
   ]
  },
  {
   "cell_type": "code",
   "execution_count": 4,
   "id": "c675f81f-2a5f-46d0-b19c-2ffd191cbe10",
   "metadata": {
    "executionCancelledAt": null,
    "executionTime": 313,
    "lastExecutedAt": 1714596649308,
    "lastExecutedByKernel": "cea3dc35-4472-4d82-b8d9-83edc869d988",
    "lastScheduledRunId": null,
    "lastSuccessfullyExecutedCode": "from sklearn.metrics import precision_recall_curve, auc\n\n# precision-recall curve:\n    # plots precision (positive predictive value) vs recall (sensitivity)\n    #useful for imbalanced datasets\n        #pretty sure this is an imbalanced dataset (number of positive cases is not proportional to                 something you would find in the population) so this might be useful\n        #random forests are robust to class imbalance so might be a good way to segway into that model?\n        \n# finding precision-recall curve\nprecision, recall, _ = precision_recall_curve(y_test, lr_model.predict_proba(X_test_scaled)[:,1])\n\n# plotting precision-recall curve\nplt.figure(figsize=(8, 6))\nplt.plot(recall, precision, color='blue', lw=2, label='Precision-Recall curve')\nplt.xlabel('Recall')\nplt.ylabel('Precision')\nplt.title('Precision-Recall Curve')\nplt.legend(loc='upper right')\nplt.show()"
   },
   "outputs": [
    {
     "data": {
      "image/png": "[encoded data removed]",
      "text/plain": [
       "<Figure size 800x600 with 1 Axes>"
      ]
     },
     "metadata": {},
     "output_type": "display_data"
    }
   ],
   "source": [
    "from sklearn.metrics import precision_recall_curve, auc\n",
    "\n",
    "# precision-recall curve:\n",
    "    # plots precision (positive predictive value) vs recall (sensitivity)\n",
    "    #useful for imbalanced datasets\n",
    "        #pretty sure this is an imbalanced dataset (number of positive cases is not proportional to                 something you would find in the population) so this might be useful\n",
    "        #random forests are robust to class imbalance so might be a good way to segway into that model?\n",
    "        \n",
    "# finding precision-recall curve\n",
    "precision, recall, _ = precision_recall_curve(y_test, lr_model.predict_proba(X_test_scaled)[:,1])\n",
    "\n",
    "# plotting precision-recall curve\n",
    "plt.figure(figsize=(8, 6))\n",
    "plt.plot(recall, precision, color='blue', lw=2, label='Precision-Recall curve')\n",
    "plt.xlabel('Recall')\n",
    "plt.ylabel('Precision')\n",
    "plt.title('Precision-Recall Curve')\n",
    "plt.legend(loc='upper right')\n",
    "plt.show()"
   ]
  },
  {
   "cell_type": "code",
   "execution_count": 5,
   "id": "f7f7054b-fce8-4dc0-809b-2c6edc1d624b",
   "metadata": {
    "executionCancelledAt": null,
    "executionTime": 329,
    "lastExecutedAt": 1714596861498,
    "lastExecutedByKernel": "cea3dc35-4472-4d82-b8d9-83edc869d988",
    "lastScheduledRunId": null,
    "lastSuccessfullyExecutedCode": "#confusion matrix\n\nfrom sklearn.metrics import confusion_matrix\nimport seaborn as sns\n\n\n# find confusion matrix\ncm = confusion_matrix(y_test, y_pred)\nprint(cm)\n\n# plotting the confusion matrix\nplt.figure(figsize=(10, 8))\nsns.heatmap(cm, annot=True, fmt=\"d\", cmap=\"Blues\", xticklabels=[\"Predicted Negative\", \"Predicted Positive\"], yticklabels=[\"Actual Negative\", \"Actual Positive\"])\nplt.ylabel('Actual')\nplt.xlabel('Predicted')\nplt.title('Confusion Matrix')\n\nplt.show()\n\n#cant figure out why the bottom row isnt showing counts??? need to fix this if we want to use this plot ",
    "outputsMetadata": {
     "0": {
      "height": 59,
      "type": "stream"
     }
    }
   },
   "outputs": [
    {
     "name": "stdout",
     "output_type": "stream",
     "text": [
      "[[89 45]\n",
      " [60 53]]\n"
     ]
    },
    {
     "data": {
      "image/png": "[encoded data removed]",
      "text/plain": [
       "<Figure size 1000x800 with 2 Axes>"
      ]
     },
     "metadata": {},
     "output_type": "display_data"
    }
   ],
   "source": [
    "#confusion matrix\n",
    "\n",
    "from sklearn.metrics import confusion_matrix\n",
    "\n",
    "\n",
    "\n",
    "# find confusion matrix\n",
    "cm = confusion_matrix(y_test, y_pred)\n",
    "print(cm)\n",
    "\n",
    "# plotting the confusion matrix\n",
    "plt.figure(figsize=(10, 8))\n",
    "sns.heatmap(cm, annot=True, fmt=\"d\", cmap=\"Blues\", xticklabels=[\"Predicted Negative\", \"Predicted Positive\"], yticklabels=[\"Actual Negative\", \"Actual Positive\"])\n",
    "plt.ylabel('Actual')\n",
    "plt.xlabel('Predicted')\n",
    "plt.title('Confusion Matrix')\n",
    "\n",
    "plt.show()\n",
    "\n",
    "#cant figure out why the bottom row isnt showing counts??? need to fix this if we want to use this plot "
   ]
  },
  {
   "cell_type": "markdown",
   "id": "847aaac2-ba65-433d-89e8-2335f5161eff",
   "metadata": {},
   "source": [
    "### accuracy of this model was low, going to try to increase accuracy by selecting sigificant features based on p-value from hypothesis testing"
   ]
  },
  {
   "cell_type": "markdown",
   "id": "6f7b4144-c465-4d71-9390-d8cd0ce8eb00",
   "metadata": {},
   "source": [
    "features with p-value greater than a significance level of 0.10 will not be considered significant.\n",
    "\n",
    "... having a hard time figuring out the code to determine significant features... but i know the significan tones from my summer work so just gonna refit the model with that and we can figure out this middle part later \n",
    "\n",
    "look at interaction between famhist & alcohol, and PRS and agemeno\n"
   ]
  },
  {
   "cell_type": "code",
   "execution_count": 6,
   "id": "f33399a9-2e1d-4c36-bf9a-0e2c0c9f92b1",
   "metadata": {
    "executionCancelledAt": null,
    "executionTime": 57,
    "lastExecutedAt": 1714596649844,
    "lastExecutedByKernel": "cea3dc35-4472-4d82-b8d9-83edc869d988",
    "lastScheduledRunId": null,
    "lastSuccessfullyExecutedCode": "# defining features and target\nfeatures = ['parity', 'PRS', 'alcohol', 'smoke.st']\nX = bc_df[features]\ny = bc_df['caco'] #target variable, 1 = has breast cancer, 0 = doesn't have breast cancer\n\n# spliting data into training and testing sets\nX_train, X_test, y_train, y_test = train_test_split(X, y, test_size = 0.2, random_state = 24)\n\n#standardize features\nscaler = StandardScaler()\nX_train_scaled = scaler.fit_transform(X_train)\nX_test_scaled = scaler.transform(X_test)\n\n#train logistic regression model \nlr_model = LogisticRegression()\nlr_model.fit(X_train_scaled, y_train)\n\n#predict on testing set\ny_pred = lr_model.predict(X_test_scaled)\n\n#evaluate model \naccuracy = accuracy_score(y_test, y_pred)\nprint(\"Accuracy: \", accuracy)\n\n#classification report\nprint(\"\\nClassification Report: \")\nprint(classification_report(y_test, y_pred))\n\n#confusion matrix\nprint(\"\\nConfusion Matrix: \")\nprint(confusion_matrix(y_test, y_pred))",
    "outputsMetadata": {
     "0": {
      "height": 353,
      "type": "stream"
     }
    }
   },
   "outputs": [
    {
     "name": "stdout",
     "output_type": "stream",
     "text": [
      "Accuracy:  0.611336032388664\n",
      "\n",
      "Classification Report: \n",
      "              precision    recall  f1-score   support\n",
      "\n",
      "           0       0.62      0.73      0.67       134\n",
      "           1       0.60      0.47      0.52       113\n",
      "\n",
      "    accuracy                           0.61       247\n",
      "   macro avg       0.61      0.60      0.60       247\n",
      "weighted avg       0.61      0.61      0.60       247\n",
      "\n",
      "\n",
      "Confusion Matrix: \n",
      "[[98 36]\n",
      " [60 53]]\n",
      "[[98 36]\n",
      " [60 53]]\n"
     ]
    },
    {
     "data": {
      "image/png": "[encoded data removed]",
      "text/plain": [
       "<Figure size 1000x800 with 2 Axes>"
      ]
     },
     "metadata": {},
     "output_type": "display_data"
    }
   ],
   "source": [
    "# defining features and target\n",
    "features = ['parity', 'PRS', 'alcohol', 'smoke.st']\n",
    "X = bc_df[features]\n",
    "y = bc_df['caco'] #target variable, 1 = has breast cancer, 0 = doesn't have breast cancer\n",
    "\n",
    "# spliting data into training and testing sets\n",
    "X_train, X_test, y_train, y_test = train_test_split(X, y, test_size = 0.2, random_state = 24)\n",
    "\n",
    "#standardize features\n",
    "scaler = StandardScaler()\n",
    "X_train_scaled = scaler.fit_transform(X_train)\n",
    "X_test_scaled = scaler.transform(X_test)\n",
    "\n",
    "#train logistic regression model \n",
    "lr_model = LogisticRegression()\n",
    "lr_model.fit(X_train_scaled, y_train)\n",
    "\n",
    "#predict on testing set\n",
    "y_pred = lr_model.predict(X_test_scaled)\n",
    "\n",
    "#evaluate model \n",
    "accuracy = accuracy_score(y_test, y_pred)\n",
    "print(\"Accuracy: \", accuracy)\n",
    "\n",
    "#classification report\n",
    "print(\"\\nClassification Report: \")\n",
    "print(classification_report(y_test, y_pred))\n",
    "\n",
    "#confusion matrix\n",
    "print(\"\\nConfusion Matrix: \")\n",
    "print(confusion_matrix(y_test, y_pred))\n",
    "\n",
    "#confusion matrix\n",
    "\n",
    "\n",
    "# find confusion matrix\n",
    "cm = confusion_matrix(y_test, y_pred)\n",
    "print(cm)\n",
    "\n",
    "# plotting the confusion matrix\n",
    "plt.figure(figsize=(10, 8))\n",
    "sns.heatmap(cm, annot=True, fmt=\"d\", cmap=\"Blues\", xticklabels=[\"Predicted Negative\", \"Predicted Positive\"], yticklabels=[\"Actual Negative\", \"Actual Positive\"])\n",
    "plt.ylabel('Actual')\n",
    "plt.xlabel('Predicted')\n",
    "plt.title('Confusion Matrix')\n",
    "\n",
    "plt.show()"
   ]
  },
  {
   "cell_type": "markdown",
   "id": "752ed450-10ee-4d73-bf8a-311adc0c4487",
   "metadata": {},
   "source": [
    "now have an accuracy of 0.62, only slightly better\n",
    "\n",
    "working on random forests model now "
   ]
  },
  {
   "cell_type": "code",
   "execution_count": 7,
   "id": "79c57f1f-6f5b-4b83-88e4-c678dba36cdd",
   "metadata": {
    "executionCancelledAt": null,
    "executionTime": 311,
    "lastExecutedAt": 1714596650155,
    "lastExecutedByKernel": "cea3dc35-4472-4d82-b8d9-83edc869d988",
    "lastScheduledRunId": null,
    "lastSuccessfullyExecutedCode": "from sklearn.ensemble import RandomForestClassifier\nfrom sklearn.model_selection import train_test_split\nfrom sklearn.metrics import accuracy_score, classification_report\n\n# selecting features\nselected_features = ['parity', 'PRS', 'alcohol', 'smoke.st']\nrf_X = bc_df[selected_features]\nrf_y = bc_df['caco']  \n\n# splitting data into training and testing sets\nrf_X_train, rf_X_test, rf_y_train, rf_y_test = train_test_split(rf_X, rf_y, test_size=0.2, random_state=42)\n\n# intitalizing random forest classifier\nrf_classifier = RandomForestClassifier(random_state=42)\n\n# fitting the model\nrf_classifier.fit(rf_X_train, rf_y_train)\n\n# predictions\nrf_y_pred = rf_classifier.predict(rf_X_test)\n\n# evaluate\naccuracy = accuracy_score(rf_y_test, rf_y_pred)\nprint(\"Accuracy:\", accuracy)\n\nprint(classification_report(rf_y_test, rf_y_pred))\n",
    "outputsMetadata": {
     "0": {
      "height": 227,
      "type": "stream"
     }
    }
   },
   "outputs": [
    {
     "name": "stdout",
     "output_type": "stream",
     "text": [
      "Accuracy: 0.5303643724696356\n",
      "              precision    recall  f1-score   support\n",
      "\n",
      "           0       0.57      0.60      0.59       137\n",
      "           1       0.47      0.45      0.46       110\n",
      "\n",
      "    accuracy                           0.53       247\n",
      "   macro avg       0.52      0.52      0.52       247\n",
      "weighted avg       0.53      0.53      0.53       247\n",
      "\n"
     ]
    }
   ],
   "source": [
    "from sklearn.ensemble import RandomForestClassifier\n",
    "from sklearn.model_selection import train_test_split\n",
    "from sklearn.metrics import accuracy_score, classification_report\n",
    "\n",
    "# selecting features\n",
    "selected_features = ['parity', 'PRS', 'alcohol', 'smoke.st']\n",
    "rf_X = bc_df[selected_features]\n",
    "rf_y = bc_df['caco']  \n",
    "\n",
    "# splitting data into training and testing sets\n",
    "rf_X_train, rf_X_test, rf_y_train, rf_y_test = train_test_split(rf_X, rf_y, test_size=0.2, random_state=42)\n",
    "\n",
    "# intitalizing random forest classifier\n",
    "rf_classifier = RandomForestClassifier(random_state=42)\n",
    "\n",
    "# fitting the model\n",
    "rf_classifier.fit(rf_X_train, rf_y_train)\n",
    "\n",
    "# predictions\n",
    "rf_y_pred = rf_classifier.predict(rf_X_test)\n",
    "\n",
    "# evaluate\n",
    "accuracy = accuracy_score(rf_y_test, rf_y_pred)\n",
    "print(\"Accuracy:\", accuracy)\n",
    "\n",
    "print(classification_report(rf_y_test, rf_y_pred))\n"
   ]
  },
  {
   "cell_type": "markdown",
   "id": "50ae3567-8bdb-4242-b128-e9ffcb5e3782",
   "metadata": {},
   "source": [
    "not a great accuracy here either "
   ]
  },
  {
   "cell_type": "markdown",
   "id": "1fbf94e7-276d-420d-be16-41e16ffc60fc",
   "metadata": {},
   "source": [
    "trying a neural network now "
   ]
  },
  {
   "cell_type": "code",
   "execution_count": 8,
   "id": "bcfa3304-0ed1-4aab-a1a2-894d1d5a76f6",
   "metadata": {
    "executionCancelledAt": null,
    "executionTime": null,
    "lastExecutedAt": null,
    "lastExecutedByKernel": null,
    "lastScheduledRunId": null,
    "lastSuccessfullyExecutedCode": null,
    "outputsMetadata": {
     "0": {
      "height": 80,
      "type": "stream"
     }
    }
   },
   "outputs": [
    {
     "ename": "ModuleNotFoundError",
     "evalue": "No module named 'tensorflow'",
     "output_type": "error",
     "traceback": [
      "\u001b[0;31m---------------------------------------------------------------------------\u001b[0m",
      "\u001b[0;31mModuleNotFoundError\u001b[0m                       Traceback (most recent call last)",
      "Cell \u001b[0;32mIn[8], line 5\u001b[0m\n\u001b[1;32m      3\u001b[0m \u001b[38;5;28;01mfrom\u001b[39;00m \u001b[38;5;21;01msklearn\u001b[39;00m\u001b[38;5;21;01m.\u001b[39;00m\u001b[38;5;21;01mmodel_selection\u001b[39;00m \u001b[38;5;28;01mimport\u001b[39;00m train_test_split\n\u001b[1;32m      4\u001b[0m \u001b[38;5;28;01mfrom\u001b[39;00m \u001b[38;5;21;01msklearn\u001b[39;00m\u001b[38;5;21;01m.\u001b[39;00m\u001b[38;5;21;01mpreprocessing\u001b[39;00m \u001b[38;5;28;01mimport\u001b[39;00m StandardScaler\n\u001b[0;32m----> 5\u001b[0m \u001b[38;5;28;01mfrom\u001b[39;00m \u001b[38;5;21;01mtensorflow\u001b[39;00m\u001b[38;5;21;01m.\u001b[39;00m\u001b[38;5;21;01mkeras\u001b[39;00m\u001b[38;5;21;01m.\u001b[39;00m\u001b[38;5;21;01mmodels\u001b[39;00m \u001b[38;5;28;01mimport\u001b[39;00m Sequential\n\u001b[1;32m      6\u001b[0m \u001b[38;5;28;01mfrom\u001b[39;00m \u001b[38;5;21;01mtensorflow\u001b[39;00m\u001b[38;5;21;01m.\u001b[39;00m\u001b[38;5;21;01mkeras\u001b[39;00m\u001b[38;5;21;01m.\u001b[39;00m\u001b[38;5;21;01mlayers\u001b[39;00m \u001b[38;5;28;01mimport\u001b[39;00m Dense\n\u001b[1;32m      8\u001b[0m bc_df \u001b[38;5;241m=\u001b[39m pd\u001b[38;5;241m.\u001b[39mread_csv(\u001b[38;5;124m'\u001b[39m\u001b[38;5;124mPLCOrelev.csv\u001b[39m\u001b[38;5;124m'\u001b[39m)\n",
      "\u001b[0;31mModuleNotFoundError\u001b[0m: No module named 'tensorflow'"
     ]
    }
   ],
   "source": [
    "import pandas as pd\n",
    "import numpy as np\n",
    "from sklearn.model_selection import train_test_split\n",
    "from sklearn.preprocessing import StandardScaler\n",
    "from tensorflow.keras.models import Sequential\n",
    "from tensorflow.keras.layers import Dense\n",
    "\n",
    "bc_df = pd.read_csv('PLCOrelev.csv')\n",
    "bc_df.head()\n",
    "\n",
    "# defining features and target\n",
    "features = ['agebas', 'bmi', 'agemeno', 'menarche', 'parity', 'famhist_0', 'famhist_1', 'PRS', 'alcohol', 'birth', 'height', 'smoke.st']\n",
    "X = bc_df[features]\n",
    "y = bc_df['caco']\n",
    "\n",
    "# Preprocess data\n",
    "# Handling missing values\n",
    "bc_df.fillna(bc_df.median(), inplace=True)\n",
    "# Convert categorical variables to one-hot encoding\n",
    "bc_df = pd.get_dummies(bc_df, columns=['famhist'])\n",
    "\n",
    "# Split data into features and target\n",
    "X = bc_df[features]\n",
    "y = bc_df[target]\n",
    "\n",
    "# Split data into training and testing sets\n",
    "X_train, X_test, y_train, y_test = train_test_split(X, y, test_size=0.2, random_state=42)\n",
    "\n",
    "# Standardize features\n",
    "scaler = StandardScaler()\n",
    "X_train_scaled = scaler.fit_transform(X_train)\n",
    "X_test_scaled = scaler.transform(X_test)\n",
    "\n",
    "# Build the neural network model\n",
    "model = Sequential([\n",
    "    Dense(64, activation='relu', input_shape=(X_train.shape[1],)),\n",
    "    Dense(64, activation='relu'),\n",
    "    Dense(1, activation='sigmoid')\n",
    "])\n",
    "\n",
    "# Compile the model\n",
    "model.compile(optimizer='rmsprop',\n",
    "              loss='binary_crossentropy',\n",
    "              metrics=['accuracy'])\n",
    "\n",
    "# Train the model\n",
    "history = model.fit(X_train_scaled, y_train, epochs=100, batch_size=32, validation_split=0.2)\n",
    "\n",
    "# Evaluate the model\n",
    "test_loss, test_accuracy = model.evaluate(X_test_scaled, y_test)\n",
    "print(\"Test Accuracy:\", test_accuracy)\n",
    "\n",
    "# Plot training history\n",
    "import matplotlib.pyplot as plt\n",
    "plt.plot(history.history['accuracy'], label='accuracy')\n",
    "plt.plot(history.history['val_accuracy'], label = 'val_accuracy')\n",
    "plt.xlabel('Epoch')\n",
    "plt.ylabel('Accuracy')\n",
    "plt.ylim([0, 1])\n",
    "plt.legend(loc='lower right')\n",
    "plt.show()\n"
   ]
  },
  {
   "cell_type": "code",
   "execution_count": null,
   "id": "3e93827c-3e95-4cb9-8ff9-5458b2fc25e5",
   "metadata": {
    "executionCancelledAt": 1714596653193,
    "executionTime": 11,
    "lastExecutedAt": 1714331005534,
    "lastExecutedByKernel": "6e9216ab-5b33-4f9b-a2f3-51c062b4a0c7",
    "lastScheduledRunId": null,
    "lastSuccessfullyExecutedCode": "print(bc_df.columns)",
    "outputsMetadata": {
     "0": {
      "height": 101,
      "type": "stream"
     }
    }
   },
   "outputs": [],
   "source": [
    "print(bc_df.columns)"
   ]
  },
  {
   "cell_type": "code",
   "execution_count": null,
   "id": "93993509-af82-4ff9-8c17-1657a5617e85",
   "metadata": {
    "executionCancelledAt": 1714596653195,
    "executionTime": 12,
    "lastExecutedAt": 1714596493596,
    "lastExecutedByKernel": "cea3dc35-4472-4d82-b8d9-83edc869d988",
    "lastScheduledRunId": null,
    "lastSuccessfullyExecutedCode": "# regular\nclass neural_network(nn.Module):\n    def __init__(self, x, width, device):\n      super(neural_network, self).__init__()\n\n      self.layers = nn.Sequential(\n          nn.Linear(x.shape[1], width).double(), nn.ReLU(),\n          nn.Linear(width, width).double(), nn.ReLU(),\n          nn.Linear(width, 10).double()\n      )\n\n    def forward(self, x):\n      x = self.layers(x.double())\n      return x\n\ndef cross_entropy(model, x, y):\n  return torch.nn.CrossEntropyLoss()(model(x), y)"
   },
   "outputs": [],
   "source": [
    "# regular\n",
    "class neural_network(nn.Module):\n",
    "    def __init__(self, x, width, device):\n",
    "      super(neural_network, self).__init__()\n",
    "\n",
    "      self.layers = nn.Sequential(\n",
    "          nn.Linear(x.shape[1], width).double(), nn.ReLU(),\n",
    "          nn.Linear(width, width).double(), nn.ReLU(),\n",
    "          nn.Linear(width, 10).double()\n",
    "      )\n",
    "\n",
    "    def forward(self, x):\n",
    "      x = self.layers(x.double())\n",
    "      return x\n",
    "\n",
    "def cross_entropy(model, x, y):\n",
    "  return torch.nn.CrossEntropyLoss()(model(x), y)"
   ]
  }
 ],
 "metadata": {
  "colab": {
   "name": "Welcome to DataCamp Workspaces.ipynb",
   "provenance": []
  },
  "kernelspec": {
   "display_name": "Python 3 (ipykernel)",
   "language": "python",
   "name": "python3"
  },
  "language_info": {
   "codemirror_mode": {
    "name": "ipython",
    "version": 3
   },
   "file_extension": ".py",
   "mimetype": "text/x-python",
   "name": "python",
   "nbconvert_exporter": "python",
   "pygments_lexer": "ipython3",
   "version": "3.8.14"
  }
 },
 "nbformat": 4,
 "nbformat_minor": 5
}
